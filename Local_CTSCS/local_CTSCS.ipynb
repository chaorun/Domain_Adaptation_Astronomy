{
 "cells": [
  {
   "cell_type": "markdown",
   "metadata": {},
   "source": [
    "local CTSCS has the same performance as the CTSCS server (except that here we do not have any query limit). You can specify the features you want to select.\n",
    "\n",
    "The input file which contains the raw light curve data should be in the following format:\n",
    "\n",
    "-No header line\n",
    "\n",
    "-Contains exactly four columns in the order ['id', 'MJD', 'mag', 'magerr'] (e.g. 'id' is the first column)\n",
    "\n",
    "-'id' is the object id the survey assigned to a celestrial object, 'MJD' denotes Modified Julian Date, 'mag' is the magnitude of the detected object at the given MJD, and 'magerr' is the corresponding magnitude error\n",
    "\n",
    "The local CTSCS service can output the extracted light curve features in two formats (.csv and .xml)"
   ]
  },
  {
   "cell_type": "code",
   "execution_count": 1,
   "metadata": {
    "collapsed": false
   },
   "outputs": [],
   "source": [
    "from numpy import genfromtxt\n",
    "import pandas as pd\n",
    "from statistics import amplitude\n",
    "from statistics import beyond1std\n",
    "from statistics import flux_percentile_ratio_mid20\n",
    "from statistics import flux_percentile_ratio_mid35\n",
    "from statistics import flux_percentile_ratio_mid50\n",
    "from statistics import flux_percentile_ratio_mid65\n",
    "from statistics import flux_percentile_ratio_mid80\n",
    "from statistics import linear_trend\n",
    "from statistics import max_slope\n",
    "from statistics import median_absolute_deviation\n",
    "from statistics import median_buffer_range_percentage\n",
    "from statistics import pair_slope_trend\n",
    "from statistics import percent_amplitude\n",
    "from statistics import percent_difference_flux_percentile\n",
    "from statistics import qso\n",
    "from statistics import skew\n",
    "from statistics import small_kurtosis\n",
    "from statistics import std\n",
    "from statistics import stetson_j\n",
    "from statistics import stetson_k\n",
    "from statistics import ls\n",
    "import xml.etree.ElementTree as ET\n",
    "from xml.dom import minidom\n",
    "\n",
    "def prettify(elem):\n",
    "    \"\"\"Return a pretty-printed XML string for the Element.\n",
    "    \"\"\"\n",
    "    rough_string = ET.tostring(elem, 'utf-8')\n",
    "    reparsed = minidom.parseString(rough_string)\n",
    "    return reparsed.toprettyxml(indent=\"  \")"
   ]
  },
  {
   "cell_type": "code",
   "execution_count": 2,
   "metadata": {
    "collapsed": false
   },
   "outputs": [],
   "source": [
    "input_filename = 'lineardb_lc_data_over40.csv'\n",
    "my_data = pd.read_csv(input_filename, names=['id', 'MJD', 'mag', 'magerr'])\n",
    "output_filename = 'lc_'+input_filename\n",
    "\n",
    "#using an array to represent the feature selected\n",
    "selected_features = range(1,22)\n",
    "selected_features.remove(15)\n",
    "\n",
    "# Start with an empty dictionary\n",
    "stats = {}\n",
    "dict_list = []\n",
    "for line in open('config.dat'):\n",
    "    # Split the config.dat file with delimiter ','; key is the feature number and value is feature name\n",
    "    line = line.replace(\"'\", \"\")\n",
    "    temp = line.rstrip().split(',')\n",
    "    stats[temp[0]] = temp[1]\n",
    "    d = {}\n",
    "    d['ID'] = temp[1]\n",
    "    d['datatype'] = temp[2]\n",
    "    d['name'] = temp[3]\n",
    "    dict_list.append(d)\n",
    "Ids = my_data['id'].unique()"
   ]
  },
  {
   "cell_type": "code",
   "execution_count": 3,
   "metadata": {
    "collapsed": false
   },
   "outputs": [],
   "source": [
    "#CHOOSE if we want the output file to be .csv or .xml\n",
    "csv = True\n",
    "xml = False\n",
    "if csv:\n",
    "    output_csv = open(output_filename + '.csv','w')\n",
    "    output_csv.write('')\n",
    "elif xml: \n",
    "    tree = ET.parse('lc_basic_format.xml')\n",
    "    root = tree.getroot()\n",
    "    table = root.find('RESOURCE').find('TABLE')\n",
    "    for f in selected_features:\n",
    "        ET.SubElement(table, \"FIELD\", attrib=dict_list[f-1])\n",
    "    e_data = ET.SubElement(table, 'DATA')\n",
    "    e_tbdata = ET.SubElement(e_data, 'TABLEDATA')\n",
    "else:\n",
    "    print \"You have to choose an output format!\""
   ]
  },
  {
   "cell_type": "code",
   "execution_count": 4,
   "metadata": {
    "collapsed": false
   },
   "outputs": [],
   "source": [
    "for id in Ids:\n",
    "    data = ((my_data[my_data['id'] == id])[['MJD','mag','magerr']]).transpose().as_matrix()\n",
    "    if csv:\n",
    "        row_list = [str(id)]\n",
    "    else:\n",
    "        e_tr = ET.SubElement(e_tbdata, 'TR')\n",
    "        (ET.SubElement(e_tr, 'TD')).text = str(id)\n",
    "    for feature in selected_features:\n",
    "        method = stats[str(feature)]\n",
    "        value = str(eval(method)(data))\n",
    "        if csv:\n",
    "            row_list.append(value)\n",
    "        else:\n",
    "            (ET.SubElement(e_tr, 'TD')).text = value\n",
    "    if csv:\n",
    "        output_csv.write(','.join(row_list))\n",
    "        output_csv.write('\\n')"
   ]
  },
  {
   "cell_type": "code",
   "execution_count": 5,
   "metadata": {
    "collapsed": false
   },
   "outputs": [],
   "source": [
    "if csv:\n",
    "    output_csv.close()\n",
    "elif xml:\n",
    "    #tree.write(output_filename+'.xml')\n",
    "    print prettify(root) > (output_filename+'.xml')\n",
    "else:\n",
    "    print \"You have to choose an output format!\""
   ]
  }
 ],
 "metadata": {
  "kernelspec": {
   "display_name": "Python 2",
   "language": "python",
   "name": "python2"
  },
  "language_info": {
   "codemirror_mode": {
    "name": "ipython",
    "version": 2
   },
   "file_extension": ".py",
   "mimetype": "text/x-python",
   "name": "python",
   "nbconvert_exporter": "python",
   "pygments_lexer": "ipython2",
   "version": "2.7.10"
  }
 },
 "nbformat": 4,
 "nbformat_minor": 0
}
